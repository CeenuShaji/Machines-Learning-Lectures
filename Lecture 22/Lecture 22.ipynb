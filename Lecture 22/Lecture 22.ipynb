{
 "cells": [
  {
   "cell_type": "markdown",
   "id": "1feb7185",
   "metadata": {},
   "source": [
    "# Lecture 22 - Dimensionality Reduction with Principal Component Analysis (PCA)"
   ]
  },
  {
   "cell_type": "code",
   "execution_count": null,
   "id": "c28ab1af",
   "metadata": {},
   "outputs": [],
   "source": [
    "import pandas as pd\n",
    "from scipy import stats\n",
    "import numpy as np\n",
    "import numpy.random as npr\n",
    "import matplotlib.pyplot as plt\n",
    "%matplotlib inline\n",
    "plt.style.use('bmh')\n",
    "plt.rcParams['axes.grid'] = False\n",
    "\n",
    "from sklearn.model_selection import train_test_split\n",
    "from sklearn.preprocessing import StandardScaler"
   ]
  },
  {
   "cell_type": "code",
   "execution_count": null,
   "id": "de6ea896",
   "metadata": {},
   "outputs": [],
   "source": [
    "df_wine = pd.read_csv('https://archive.ics.uci.edu/ml/machine-learning-databases/wine/wine.data', header=None)\n",
    "\n",
    "df_wine.columns = ['Class label', 'Alcohol',\n",
    "                   'Malic acid', 'Ash',\n",
    "                   'Alcalinity of ash', 'Magnesium',\n",
    "                   'Total phenols', 'Flavanoids',\n",
    "                   'Nonflavanoid phenols',\n",
    "                   'Proanthocyanins',\n",
    "                   'Color intensity', 'Hue',\n",
    "                   'OD280/OD315 of diluted wines',\n",
    "                   'Proline']\n",
    "\n",
    "df_wine"
   ]
  },
  {
   "cell_type": "code",
   "execution_count": null,
   "id": "219526b2",
   "metadata": {},
   "outputs": [],
   "source": [
    "# Target Labels\n",
    "t = df_wine['Class label'].values\n",
    "\n",
    "# Feature Matrix\n",
    "X = df_wine.drop(['Class label'], axis=1).values\n",
    "print(X.shape)\n",
    "\n",
    "# Stratified partition of the data into training/test sets\n",
    "X_train, X_test, t_train, t_test = train_test_split(X, t, \n",
    "                                                    test_size=0.3, \n",
    "                                                    stratify=t)\n",
    "# Scaling data\n",
    "scaler = StandardScaler()\n",
    "X_train = scaler.fit_transform(X_train)\n",
    "X_test = scaler.transform(X_test)"
   ]
  },
  {
   "cell_type": "markdown",
   "id": "707c5b36",
   "metadata": {},
   "source": [
    "---"
   ]
  },
  {
   "cell_type": "markdown",
   "id": "df7d5c80",
   "metadata": {},
   "source": [
    "# Principal Component Analysis (PCA)\n",
    "\n",
    "A very common approach (and one of the simplest approaches) to **dimensionality reduction** is **Principal Component Analysis** (or **PCA**). \n",
    "\n",
    "* PCA takes data from *sensor coordinates* to *data centric coordinates* using linear transformations.\n",
    "\n",
    "PCA uses a **linear transformation** to **minimize the redundancy** of the resulting transformed data (by ending up with data that is uncorrelated).\n",
    "* This means that every transformed dimension is more informative.\n",
    "* In this approach, the dimensionality of the space is still the same as the original data, but the space of features are now arranged such that they contain the most information.\n",
    "\n",
    "If we wish to reduce dimensionality of our feature space, we can choose only the features that carry over the most information in the linearly transformed space.\n",
    "* In other words, PCA will find the underlying **linear manifold** that the data is embedded in.\n",
    "\n",
    "**PCA finds the directions of maximum variance in high-dimensional data and projects it onto a new subspace with equal or fewer dimensions than the original one**. \n",
    "\n",
    "There are a couple of points-of-view on how to find $A$: \n",
    "\n",
    "1. Maximum Variance Formulation\n",
    "2. Minimum-error Formulation"
   ]
  },
  {
   "cell_type": "markdown",
   "id": "39e7cd7c",
   "metadata": {},
   "source": [
    "## 1. PCA as Maximum Variance Formulation\n",
    "\n",
    "Consider the data $X$ comprised on $N$ data samples in a D-dimensional space, so $X$ is a matrix of size $D\\times N$.\n",
    "\n",
    "The **first step** in PCA is to centralize or demean $X$. This will is to guarantee that all features will have the same impact and not weight more only because their range of values is much larger (example, age vs income).\n",
    "\n",
    "* Without loss of generality, let's assume that we subtracted the mean to the input data, $X$. Now, $X$ has zero mean.\n",
    "\n",
    "The **second step** is to find the linear transformation $A$ that transforms $X$ to a space where features are:\n",
    "1. Uncorrelated (preserve all dimensions)\n",
    "2. reduced (dimensionality reduction)\n",
    "\n",
    "\\begin{align*}Y = AX\\end{align*}\n",
    "\n",
    "where $A$ is a $D\\times D$ matrix, $X$ is a $D\\times N$ data matrix and therefore $Y$ is also a $D\\times N$ transformed data matrix.\n",
    "\n",
    "The variance of the transformed data $Y$ is given by:\n",
    "\n",
    "\\begin{align*}\n",
    "R_y &= E[YY^T] \\\\\n",
    "&= E[AX(AX)^T] \\\\\n",
    "&= E[AXX^TA^T] \\\\\n",
    "&= AE[XX^T]A^T \\\\\n",
    "&= AR_xA^T\n",
    "\\end{align*}\n",
    "\n",
    "Note that we are computing the variance along the dimensions of $Y$, therefore, $R_y$ is a $D\\times D$ matrix. Similarly, $R_X$ represents the covariance of the data $X$. Covariances matrices are symmetric therefore $R_X=R_X^T$ and $R_Y=R_Y^T$.\n",
    "\n",
    "Similarly, $R_X$ represents the covariance of the data $X$. \n",
    "\n",
    "If we write $A$ in terms of vector elements:\n",
    "\n",
    "\\begin{align*}A = \\left[\\begin{array}{cc}\n",
    "a_{11} & a_{12}\\\\\n",
    "a_{21} & a_{22}\n",
    "\\end{array}\\right]=\\left[\\begin{array}{c}\n",
    "\\overrightarrow{a_{1}}^T\\\\\n",
    "\\overrightarrow{a_{2}}^T\n",
    "\\end{array}\\right]\\end{align*}\n",
    "\n",
    "Then,\n",
    "\n",
    "\\begin{align*}\n",
    "R_y &= \\left[\\begin{array}{c}a_{1}^T\\\\a_{2}^T\\end{array}\\right] R_X \\left[\\begin{array}{cc}a_{1} & a_{2}\\end{array}\\right] \\\\\n",
    "&= \\left[\\begin{array}{cc} a_1^T R_X a_1 & a_1^T R_X a_2\\\\ a_2^T R_X a_1 & a_2^T R_X a_2\\end{array}\\right]\n",
    "\\end{align*}\n",
    "\n",
    "* If we want to represent the data in a space in which the features are **uncorrelated**, what shape does the covariance matrix have to take?\n",
    "\n",
    "Diagonal! Why?\n",
    "\n",
    "* Can we use the eigenvectors of $R_X$ as our linear transformation $A$?"
   ]
  },
  {
   "cell_type": "markdown",
   "id": "4dcef50e",
   "metadata": {},
   "source": [
    "Consider the case where we are trying to project the data $X$ into a 1-dimensional space, so we are trying to find the direction $a_1$ where maximal data variance is preserved:\n",
    "\n",
    "\\begin{align*}\n",
    "\\arg_{a_1} \\max a_1^T R_X a_1\\end{align*}\n",
    "\n",
    "We want this solution to be bounded (considering $a_1 = \\infty$ would maximize), so we need to constraint the vector to have norm 1\n",
    "\n",
    "\\begin{align*}\\Vert a_1\\Vert_2^2 = 1 \\iff a_1^T a_1 = 1  \\iff a_1^T a_1 - 1 = 0\\end{align*}\n",
    "\n",
    "Then, we using Lagrange Optimization:\n",
    "\n",
    "\\begin{align*}\\mathcal{L}(a_1, \\lambda_1) = a_1^T R_X a_1 - \\lambda_1 (a_1^T a_1 - 1)\\end{align*}\n",
    "\n",
    "Solving for $a_1$:\n",
    "\n",
    "\\begin{align*}\n",
    "&\\frac{\\partial \\mathcal{L}}{\\partial a_1} = 0 \\iff 2R_X a_1 - 2\\lambda_1 a_1 = 0 \\iff R_X a_1 = \\lambda_1 a_1\n",
    "\\end{align*}\n",
    "\n",
    "* Does this look familiar?\n",
    "\n",
    "This is stating that $a_1$ must be an eigenvector of $R_X$!\n",
    "\n",
    "So coming back to the question \"Can we use the eigenvectors of $X$ as our linear transformation $A$?\" YES!\n",
    "\n",
    "* If we left multiply by $a_1^T$ and make use of $a_1^Ta_1 = 1$:\n",
    "\n",
    "\\begin{align*}a_1^T R_X a_1 = \\lambda_1\\end{align*}\n",
    "\n",
    "**So the variance will be maximum when we set the project direction $a_1$ equal to the eigenvector having the largest eigenvalue $\\lambda_1$**.\n",
    "\n",
    "* This eigenvector is known as the firt **principal component**.\n",
    "\n",
    "* As you may anticipate, the linear trasnformation $A$ will the be a matrix whose row entries are **sorted** the eigenvectors (sorted by their correspondent eigenvalue).\n",
    "\n",
    "\\begin{align*}A &= \\left[\\begin{array}{c}\n",
    "\\overrightarrow{a_{1}}^T\\\\\n",
    "\\overrightarrow{a_{2}}^T\n",
    "\\end{array}\\right]\\end{align*}\n",
    "\n",
    "where $a_1$ and $a_2$ are eigenvectors of $R_X$ with correspondent eigenvalues $\\lambda_1$ and $\\lambda_2$ with $\\lambda_1>\\lambda_2$."
   ]
  },
  {
   "cell_type": "markdown",
   "id": "404737f7",
   "metadata": {},
   "source": [
    "## 2. PCA as Minimum-error Formulation\n",
    "\n",
    "We can also look at PCA as a minimization of mean squared error."
   ]
  },
  {
   "cell_type": "code",
   "execution_count": 1,
   "id": "191ca377",
   "metadata": {},
   "outputs": [
    {
     "data": {
      "image/png": "[encoded data removed]",
      "text/plain": [
       "<IPython.core.display.Image object>"
      ]
     },
     "execution_count": 1,
     "metadata": {
      "image/png": {
       "width": 300
      }
     },
     "output_type": "execute_result"
    }
   ],
   "source": [
    "from IPython.display import Image\n",
    "Image('figures/Figure12.2.png',width=300)"
   ]
  },
  {
   "cell_type": "markdown",
   "id": "64f12083",
   "metadata": {},
   "source": [
    "Consider $X$ and a D-dimensional orthogonal basis $\\mathbf{u}$:\n",
    "\n",
    "\\begin{align*}\\hat{x} = \\sum_{i=1}^m y_i a_i\\end{align*}\n",
    "\n",
    "where $m<D$.\n",
    "\n",
    "\\begin{align*}y_j = x^Ta_j \\end{align*}\n",
    "\n",
    "where $A^TA = I$.\n",
    "\n",
    "We want to minimize the residual error:\n",
    "\n",
    "\\begin{align*}\\epsilon = x - \\hat{x} = \\sum_{i=m+1}^D y_i a_i\\end{align*}\n",
    "\n",
    "* The objective function we will use is the mean square residual:\n",
    "\n",
    "\\begin{align*}\n",
    "J &= E\\left[ \\|\\epsilon\\|^2_2\\right]\\\\\n",
    "&= E\\left[\\left( \\sum_{i=m+1}^D y_ia_i\\right)\\left( \\sum_{i=m+1}^D y_i a_i\\right) \\right]\\\\\n",
    "&=\\sum_{j=m+1}^D E [y_j^2], \\text{because }a_i^Ta_j=0, \\forall i\\neq j \\text{ and }a_i^Ta_j=1, \\forall i=j\\\\\n",
    "&=\\sum_{j=m+1}^D E [(a_j^T\\mathbf{x})(\\mathbf{x}^Ta_j)]\\\\\n",
    "&= \\sum_{j=m+1}^D a_j^T E[\\mathbf{x}\\mathbf{x}^T]a_j\\\\\n",
    "&= \\sum_{j=m+1}^D a_j^T R_x a_j\n",
    "\\end{align*}\n",
    "\n",
    "Minimize the error and incorporate Lagrange parameters for $A^TA=I$:\n",
    "\n",
    "\\begin{align*}\n",
    "\\frac{\\partial J}{\\partial a_j} &= 2(R_x a_j - \\lambda_j a_j) = 0\\\\\n",
    "R_x a_j &= \\lambda_j a_j\n",
    "\\end{align*}\n",
    "\n",
    "So, the sum of the error is the sum of the eigenvalues of the unused eigenvectors.  So, we want to select the eigenvectors with the $m$ largest eigenvalues. "
   ]
  },
  {
   "cell_type": "markdown",
   "id": "464cf437",
   "metadata": {},
   "source": [
    "___"
   ]
  },
  {
   "cell_type": "markdown",
   "id": "476b3eac",
   "metadata": {},
   "source": [
    "# Steps of PCA\n",
    "\n",
    "Consider the data $X$ with $N$ data points defined in a $D$-dimensional space, that is, $X$ is a $D\\times N$ matrix.\n",
    "\n",
    "1. Subtract the mean, $\\mu = \\frac{1}{N}\\sum_{i=1}^N x_i$.\n",
    "\n",
    "2. Compute the covariance matrix $R_X$ (by definition, the covariance already subtracts the data's mean). This matrix is of size $D\\times D$.\n",
    "\n",
    "3. Compute eigenvectors and eigenvalues of the matrix $R_X$, and store the sorted eigenvectors ($e_i$) in decreasing eigenvalue ($\\lambda_i$) order.\n",
    "\n",
    "4. Build the modal matrix $\\mathbf{U} = \\left[\\begin{array}{c} \\mathbf{e_{1}} &| & \\mathbf{e_{2}} &|\\dots |& \\mathbf{e_{D}}\\end{array}\\right]$, where all the (unit-length) eigenvectors are stacked in columns, sorted by their respective eigenvalues, i.e., $\\lambda_1>\\lambda_2>\\dots>\\lambda_D$.\n",
    "\n",
    "    * For **uncorrelating the data**, preserve all $D$ eigenvectors. Hence $\\mathbf{U}$ is a $D \\times D$ matrix.\n",
    "    * For **dimensionality reduction**, keep the top $M$ eigenvectors with the largest eigenvalues. Hence $\\mathbf{U}$ is a $D \\times M$ matrix.\n",
    "\n",
    "5. Apply the linear transformation: $\\mathbf{y} = \\mathbf{U}^T \\mathbf{X}$. Here $\\mathbf{y}$ is a matrix of size $M \\times N$, where $M\\leq D$.\n",
    "\n",
    "Note that the formal definition of covariance already accounts for demeaning the data."
   ]
  },
  {
   "cell_type": "markdown",
   "id": "6a28eca8",
   "metadata": {},
   "source": [
    "---"
   ]
  },
  {
   "cell_type": "code",
   "execution_count": null,
   "id": "0f3483d8",
   "metadata": {},
   "outputs": [],
   "source": [
    "# Helper functions\n",
    "\n",
    "def plotvec(*argv):\n",
    "    colors=['k','b','r','g','c','m']\n",
    "    xmin=0\n",
    "    xmax=-1000000\n",
    "    ymin=0\n",
    "    ymax=-1000000\n",
    "    origin=[0,0]\n",
    "#     plt.figure()\n",
    "    for e in enumerate(argv):\n",
    "        i=e[0]\n",
    "        arg=e[1]\n",
    "        plt.quiver(*origin,*arg,angles='xy',scale_units='xy',scale=1,\n",
    "                   color=colors[i%len(colors)])\n",
    "        xmin=min(xmin,arg[0])\n",
    "        xmax=max(xmax,arg[0])\n",
    "        ymin=min(ymin,arg[1])\n",
    "        ymax=max(ymax,arg[1])\n",
    "#     plt.xlim(min(-1, xmin-1), max(1,xmax+1))\n",
    "#     plt.ylim(min(-1,ymin-1),max(1,ymax+1))\n",
    "\n",
    "def plot_contours(K,X=None, R=None):\n",
    "    '''This function plots the contours of a Bivariate Gaussian RV with\n",
    "    mean [0,0] and covariance K'''\n",
    "    \n",
    "    x = np.linspace(-4, 4, 100)\n",
    "    y = np.linspace(-4, 4, 100)\n",
    "    xm, ym = np.meshgrid(x, np.flip(y))\n",
    "    if X is None:\n",
    "        X = np.dstack([xm,ym])\n",
    "    if R is not None:\n",
    "        X = X@R\n",
    "    \n",
    "    G = stats.multivariate_normal.pdf(X,mean=[0,0],cov=K)\n",
    "    \n",
    "    plt.figure(figsize=(6,6))\n",
    "    plt.contour(xm,ym,G, extent=[-3,3,-3,3],cmap='viridis');\n",
    "    \n",
    "def makerot(theta):\n",
    "    '''This function creates a 2x2 rotation \n",
    "    matrix for a given angle (theta) in degrees'''\n",
    "    \n",
    "    theta=np.radians(theta)\n",
    "    \n",
    "    R = np.array([[np.cos(theta), -np.sin(theta)],\n",
    "                  [np.sin(theta), np.cos(theta)]])\n",
    "    \n",
    "    return R"
   ]
  },
  {
   "cell_type": "code",
   "execution_count": null,
   "id": "cde096f7",
   "metadata": {},
   "outputs": [],
   "source": [
    "data = stats.multivariate_normal([0,0],[[1,0.8],[0.8,2]]).rvs(size=100)\n",
    "\n",
    "data.shape"
   ]
  },
  {
   "cell_type": "code",
   "execution_count": null,
   "id": "6116fa6c",
   "metadata": {},
   "outputs": [],
   "source": [
    "plt.scatter(data[:,0],data[:,1])"
   ]
  },
  {
   "cell_type": "code",
   "execution_count": null,
   "id": "e6104bbe",
   "metadata": {},
   "outputs": [],
   "source": [
    "# Compute covariance matrix\n",
    "\n",
    "\n"
   ]
  },
  {
   "cell_type": "code",
   "execution_count": null,
   "id": "d1874594",
   "metadata": {},
   "outputs": [],
   "source": [
    "# Plot contours\n",
    "\n"
   ]
  },
  {
   "cell_type": "code",
   "execution_count": null,
   "id": "ff9b9dd3",
   "metadata": {},
   "outputs": [],
   "source": [
    "# Eigen-decomposition\n",
    "\n"
   ]
  },
  {
   "cell_type": "code",
   "execution_count": null,
   "id": "f9d64e3d",
   "metadata": {},
   "outputs": [],
   "source": [
    "# Sort eigenvalues and eigenvectors in decreasing order of eigenvalues\n",
    "\n"
   ]
  },
  {
   "cell_type": "code",
   "execution_count": null,
   "id": "fbc35650",
   "metadata": {},
   "outputs": [],
   "source": [
    "plot_contours(K)\n",
    "plt.scatter(data[:,0],data[:,1])\n",
    "plotvec(V[:,0], V[:,1])\n",
    "plt.legend(['Data','Eigenvector 1', 'Eigenvector 2']);"
   ]
  },
  {
   "cell_type": "code",
   "execution_count": null,
   "id": "752fac34",
   "metadata": {},
   "outputs": [],
   "source": [
    "# Rotate data (uncorrelate)\n",
    "\n"
   ]
  },
  {
   "cell_type": "code",
   "execution_count": null,
   "id": "4bd3ccc4",
   "metadata": {},
   "outputs": [],
   "source": [
    "# Compute covariance of rotated data\n",
    "\n"
   ]
  },
  {
   "cell_type": "code",
   "execution_count": null,
   "id": "512c3aed",
   "metadata": {},
   "outputs": [],
   "source": [
    "plot_contours(K2)\n",
    "plt.scatter(rotated[0,:],rotated[1,:])\n",
    "plt.xlabel('Principal Component 1')\n",
    "plt.ylabel('Principal Component 2');"
   ]
  },
  {
   "cell_type": "code",
   "execution_count": null,
   "id": "69d355f9",
   "metadata": {},
   "outputs": [],
   "source": [
    "# Angle between standard unit vector [1,0] and 1st eigenvector\n",
    "\n",
    "e1=np.array([[1],[0]])\n",
    "\n",
    "np.degrees(np.arccos((e1.T@V[:,0])/(np.linalg.norm(e1)*np.linalg.norm(V[:,0]))))"
   ]
  },
  {
   "cell_type": "code",
   "execution_count": null,
   "id": "fd98a543",
   "metadata": {},
   "outputs": [],
   "source": [
    "# Rotate the data by applying rotation matrix\n",
    "\n"
   ]
  },
  {
   "cell_type": "code",
   "execution_count": null,
   "id": "31c2402e",
   "metadata": {},
   "outputs": [],
   "source": [
    "# Covariance of resulting rotation\n",
    "\n"
   ]
  },
  {
   "cell_type": "code",
   "execution_count": null,
   "id": "8411c728",
   "metadata": {},
   "outputs": [],
   "source": [
    "plot_contours(K3)\n",
    "plt.scatter(rotated2[0,:],rotated2[1,:])\n",
    "plt.xlabel('Principal Component 1')\n",
    "plt.ylabel('Principal Component 2');"
   ]
  },
  {
   "cell_type": "markdown",
   "id": "4ef41e5e",
   "metadata": {},
   "source": [
    "---"
   ]
  },
  {
   "cell_type": "markdown",
   "id": "2849508d",
   "metadata": {},
   "source": [
    "Coming back to the wine dataset:"
   ]
  },
  {
   "cell_type": "code",
   "execution_count": null,
   "id": "85feacbb",
   "metadata": {},
   "outputs": [],
   "source": [
    "cov_train = ##\n",
    "\n",
    "plt.figure(figsize=(8,5))\n",
    "plt.imshow(cov_train)\n",
    "plt.colorbar()\n",
    "plt.xticks(range(13),df_wine.columns[1:],rotation=90)\n",
    "plt.yticks(range(13),df_wine.columns[1:]);"
   ]
  },
  {
   "cell_type": "markdown",
   "id": "4d23272f",
   "metadata": {},
   "source": [
    "Building a function to implement PCA from scratch:"
   ]
  },
  {
   "cell_type": "code",
   "execution_count": null,
   "id": "7fd6ce92",
   "metadata": {},
   "outputs": [],
   "source": [
    "def myPCA(X, m, display=1):\n",
    "    '''This function implements PCA. The data matrix X is DxN matrix, \n",
    "    where D is the dimension and N the number of points'''\n",
    "    \n",
    "    D, N = X.shape\n",
    "    \n",
    "    # Demean the Data\n",
    "    data = X - X.mean(axis=1).reshape(-1, 1)\n",
    "    \n",
    "    # Covariance of the input  X\n",
    "    cov_mat = np.cov(data)\n",
    "    \n",
    "    # Find eigenvectors and eigenvalues \n",
    "    eigen_vals, eigen_vecs = np.linalg.eigh(cov_mat)\n",
    "    \n",
    "    # Sort eigenvectors by magnitude of eigenvalues\n",
    "    L = eigen_vals[::-1]\n",
    "    U = eigen_vecs[:,::-1]\n",
    "\n",
    "    # Linear transformation\n",
    "    A = U[:,:m].T\n",
    "    \n",
    "    #compute explained variance and visualize it\n",
    "    cumulative_var_exp=0\n",
    "    total = sum(L)\n",
    "    var_explained = [(i/total) for i in L]\n",
    "    cumulative_var_exp = np.cumsum(var_explained)\n",
    "    \n",
    "    if display:\n",
    "        plt.bar(range(1,D+1), var_explained, alpha=0.5, align='center', label='individual explained variance')\n",
    "        plt.step(range(1,D+1), cumulative_var_exp, alpha=0.5, where='mid', label='cumulative explained variance')\n",
    "        plt.ylabel('Explained variance ratio')\n",
    "        plt.xlabel('Principal components')\n",
    "        plt.legend(loc='best');\n",
    "        \n",
    "    return A, var_explained"
   ]
  },
  {
   "cell_type": "code",
   "execution_count": null,
   "id": "d5872de7",
   "metadata": {},
   "outputs": [],
   "source": []
  },
  {
   "cell_type": "code",
   "execution_count": null,
   "id": "b86daccc",
   "metadata": {},
   "outputs": [],
   "source": [
    "\n",
    "\n"
   ]
  },
  {
   "cell_type": "markdown",
   "id": "f12f59d2",
   "metadata": {},
   "source": [
    "The resulting plot indicates that the first principal component alone accounts for 40 percent of the variance. Also, we can see that the first two principal components combined explain almost 60 percent of the variance in the data.\n",
    "\n",
    "Although the explained variance plot reminds us of the feature importance, we shall remind ourselves that PCA is an unsupervised method, which means that information about the class labels is ignored."
   ]
  },
  {
   "cell_type": "code",
   "execution_count": null,
   "id": "16aa9769",
   "metadata": {},
   "outputs": [],
   "source": [
    "\n",
    "\n"
   ]
  },
  {
   "cell_type": "code",
   "execution_count": null,
   "id": "4654f3ee",
   "metadata": {},
   "outputs": [],
   "source": [
    "cov_mat = ##\n",
    "\n",
    "plt.figure(figsize=(8,5))\n",
    "plt.imshow(cov_mat)\n",
    "plt.colorbar();"
   ]
  },
  {
   "cell_type": "markdown",
   "id": "fe31c96c",
   "metadata": {},
   "source": [
    "## PCA with ```scikit-learn```"
   ]
  },
  {
   "cell_type": "code",
   "execution_count": null,
   "id": "a52f206f",
   "metadata": {},
   "outputs": [],
   "source": [
    "from sklearn.decomposition import PCA"
   ]
  },
  {
   "cell_type": "code",
   "execution_count": null,
   "id": "b03b4f9f",
   "metadata": {},
   "outputs": [],
   "source": [
    "PCA?"
   ]
  },
  {
   "cell_type": "code",
   "execution_count": null,
   "id": "21de0e8e",
   "metadata": {},
   "outputs": [],
   "source": [
    "\n"
   ]
  },
  {
   "cell_type": "code",
   "execution_count": null,
   "id": "af350b4c",
   "metadata": {},
   "outputs": [],
   "source": []
  },
  {
   "cell_type": "code",
   "execution_count": null,
   "id": "9ca04963",
   "metadata": {},
   "outputs": [],
   "source": []
  },
  {
   "cell_type": "code",
   "execution_count": null,
   "id": "70b9f83f",
   "metadata": {},
   "outputs": [],
   "source": []
  },
  {
   "cell_type": "code",
   "execution_count": null,
   "id": "acb696b6",
   "metadata": {},
   "outputs": [],
   "source": [
    "# The matrix A = U.T is \n",
    "\n"
   ]
  },
  {
   "cell_type": "code",
   "execution_count": null,
   "id": "1b04b16c",
   "metadata": {},
   "outputs": [],
   "source": [
    "plt.step(range(1,14),np.cumsum(pca.explained_variance_ratio_),c='r')\n",
    "plt.bar(range(1,14),pca.explained_variance_ratio_, alpha=0.5)\n",
    "plt.ylabel('Explained variance ratio')\n",
    "plt.xlabel('Principal components');"
   ]
  },
  {
   "cell_type": "code",
   "execution_count": null,
   "id": "12ce7ac3",
   "metadata": {},
   "outputs": [],
   "source": []
  },
  {
   "cell_type": "code",
   "execution_count": null,
   "id": "228b9252",
   "metadata": {},
   "outputs": [],
   "source": []
  },
  {
   "cell_type": "code",
   "execution_count": null,
   "id": "4083ef61",
   "metadata": {},
   "outputs": [],
   "source": [
    "y_train_pca = ##\n",
    "\n",
    "y_train_pca.shape"
   ]
  },
  {
   "cell_type": "code",
   "execution_count": null,
   "id": "8d2b974f",
   "metadata": {},
   "outputs": [],
   "source": [
    "cov_mat = ##\n",
    "\n",
    "plt.figure(figsize=(8,5))\n",
    "plt.imshow(cov_mat)\n",
    "plt.colorbar()\n",
    "plt.xticks(range(13),df_wine.columns[1:],rotation=90)\n",
    "plt.yticks(range(13),df_wine.columns[1:]);"
   ]
  },
  {
   "cell_type": "code",
   "execution_count": null,
   "id": "cfcf25bc",
   "metadata": {},
   "outputs": [],
   "source": [
    "colors = ['r', 'b', 'g']\n",
    "markers = ['s', 'x', 'o']\n",
    "\n",
    "for l, c, m in zip(np.unique(t_train), colors, markers):\n",
    "    plt.scatter(y_train_pca[t_train==l, 0], y_train_pca[t_train==l, 1],c=c, label=l, marker=m)\n",
    "\n",
    "plt.xlabel('PC 1')\n",
    "plt.ylabel('PC 2')\n",
    "plt.legend(loc='lower left')\n",
    "plt.show()"
   ]
  },
  {
   "cell_type": "markdown",
   "id": "67633fd6",
   "metadata": {},
   "source": [
    "The training data is used to find the new features (eigenvectors). We can then represent the test set in this new feature space:"
   ]
  },
  {
   "cell_type": "code",
   "execution_count": null,
   "id": "64b893de",
   "metadata": {},
   "outputs": [],
   "source": [
    "y_test_pca = ##\n",
    "\n",
    "y_test_pca.shape"
   ]
  },
  {
   "cell_type": "markdown",
   "id": "c8aa45f0",
   "metadata": {},
   "source": [
    "---"
   ]
  },
  {
   "cell_type": "markdown",
   "id": "c08b700c",
   "metadata": {},
   "source": [
    "## Example: Eigenfaces\n",
    "\n",
    "* Part of this example comes from: http://scikit-learn.org/stable/auto_examples/decomposition/plot_faces_decomposition.html"
   ]
  },
  {
   "cell_type": "code",
   "execution_count": null,
   "id": "cf5bf5c0",
   "metadata": {},
   "outputs": [],
   "source": [
    "from sklearn.datasets import fetch_olivetti_faces\n",
    "\n",
    "faces = fetch_olivetti_faces(return_X_y=False)\n",
    "\n",
    "# print(faces.DESCR)"
   ]
  },
  {
   "cell_type": "code",
   "execution_count": null,
   "id": "afcf1003",
   "metadata": {},
   "outputs": [],
   "source": [
    "X = faces.data # data matrix\n",
    "\n",
    "t = faces.target # target label\n",
    "\n",
    "X.shape, t.shape # 400 images, each of size 64x64=4096 pixels"
   ]
  },
  {
   "cell_type": "code",
   "execution_count": null,
   "id": "9b7222c1",
   "metadata": {},
   "outputs": [],
   "source": [
    "fig = plt.figure(figsize=(10,10))\n",
    "for i in range(40):\n",
    "    fig.add_subplot(7,6,i+1)\n",
    "    idx = np.random.choice(np.where(t==i)[0])\n",
    "    plt.imshow(X[idx,:].reshape(64,64), cmap='gray')\n",
    "    plt.axis('off')"
   ]
  },
  {
   "cell_type": "code",
   "execution_count": null,
   "id": "b027c1a4",
   "metadata": {},
   "outputs": [],
   "source": [
    "np.unique(t, return_counts=True)"
   ]
  },
  {
   "cell_type": "code",
   "execution_count": null,
   "id": "3b987323",
   "metadata": {},
   "outputs": [],
   "source": [
    "from sklearn.model_selection import train_test_split\n",
    "\n",
    "X_train, X_test, t_train, t_test = train_test_split(X, t, \n",
    "                                                    test_size=0.2, \n",
    "                                                    random_state=42)\n",
    "\n",
    "X_train.shape, t_train.shape, X_test.shape, t_test.shape"
   ]
  },
  {
   "cell_type": "code",
   "execution_count": null,
   "id": "d275afd2",
   "metadata": {},
   "outputs": [],
   "source": [
    "scaler = StandardScaler()\n",
    "\n",
    "X_train_scaled = scaler.fit_transform(X_train)\n",
    "\n",
    "X_test_scaled = scaler.transform(X_test)"
   ]
  },
  {
   "cell_type": "code",
   "execution_count": null,
   "id": "3f7f934f",
   "metadata": {},
   "outputs": [],
   "source": [
    "pca = ##\n",
    "pca.fit_transform(X_train_scaled);\n",
    "\n",
    "plt.plot(100*np.cumsum(pca.explained_variance_ratio_), '-o')\n",
    "plt.xlabel('Principal Components',size=15)\n",
    "plt.ylabel('Cumulative Explained Variance, in %', size=15);"
   ]
  },
  {
   "cell_type": "code",
   "execution_count": null,
   "id": "dd7ab779",
   "metadata": {},
   "outputs": [],
   "source": []
  },
  {
   "cell_type": "code",
   "execution_count": null,
   "id": "29d16d63",
   "metadata": {},
   "outputs": [],
   "source": []
  },
  {
   "cell_type": "code",
   "execution_count": null,
   "id": "da8c4dd2",
   "metadata": {},
   "outputs": [],
   "source": []
  },
  {
   "cell_type": "markdown",
   "id": "359a07cf",
   "metadata": {},
   "source": [
    "In order to explain 90% of the variance in the data, we need to preserve 63 principal components."
   ]
  },
  {
   "cell_type": "markdown",
   "id": "c3099ffa",
   "metadata": {},
   "source": [
    "---"
   ]
  },
  {
   "cell_type": "markdown",
   "id": "ec374980",
   "metadata": {},
   "source": [
    "Let's project to 2-D so we can plot it:"
   ]
  },
  {
   "cell_type": "code",
   "execution_count": null,
   "id": "1f83f229",
   "metadata": {},
   "outputs": [],
   "source": [
    "pca = PCA(n_components=2)\n",
    "ypca = pca.fit_transform(X_train_scaled)\n",
    "\n",
    "ypca.shape"
   ]
  },
  {
   "cell_type": "code",
   "execution_count": null,
   "id": "cc8d757f",
   "metadata": {},
   "outputs": [],
   "source": [
    "plt.figure(figsize=(10,7))\n",
    "plt.scatter(ypca[:,0], ypca[:,1], c=t_train, cmap=plt.cm.gist_rainbow)\n",
    "plt.xlabel('Principal Component 1', size=15)\n",
    "plt.ylabel('Principal Component 2', size=15)\n",
    "plt.title('Training Set')\n",
    "plt.colorbar();"
   ]
  },
  {
   "cell_type": "markdown",
   "id": "1263883d",
   "metadata": {},
   "source": [
    "Not that the 40 classes are overlapping in the linear projection space. This is because PCA is **unsupervised**, it does use the class labels *anywhere* in finding the matrix for linear projection."
   ]
  },
  {
   "cell_type": "markdown",
   "id": "9fe47ced",
   "metadata": {},
   "source": [
    "To apply this transformation in the test set, simply multiply the resultant modal matrix with the scaled test set:"
   ]
  },
  {
   "cell_type": "code",
   "execution_count": null,
   "id": "a30fc540",
   "metadata": {},
   "outputs": [],
   "source": [
    "# Transform the test set using the linear transformation found with the training data\n",
    "ypca_test = ##\n",
    "\n",
    "ypca_test.shape"
   ]
  },
  {
   "cell_type": "code",
   "execution_count": null,
   "id": "a09ac700",
   "metadata": {},
   "outputs": [],
   "source": [
    "plt.figure(figsize=(10,7))\n",
    "plt.scatter(ypca_test[:,0], ypca_test[:,1], c=t_test, cmap=plt.cm.gist_rainbow)\n",
    "plt.xlabel('Principal Component 1', size=15)\n",
    "plt.ylabel('Principal Component 2', size=15)\n",
    "plt.title('Test Set')\n",
    "plt.colorbar();"
   ]
  },
  {
   "cell_type": "markdown",
   "id": "6dc8dddc",
   "metadata": {},
   "source": [
    "---"
   ]
  },
  {
   "cell_type": "markdown",
   "id": "a893013d",
   "metadata": {},
   "source": [
    "You can access the linear transformation $\\mathbf{A} = \\mathbf{U}^T$ using the method ```components_```:"
   ]
  },
  {
   "cell_type": "code",
   "execution_count": null,
   "id": "1b9b9eac",
   "metadata": {},
   "outputs": [],
   "source": [
    "A = ##\n",
    "\n",
    "A.shape"
   ]
  },
  {
   "cell_type": "markdown",
   "id": "157caf79",
   "metadata": {},
   "source": [
    "Note that the eigenvectors are described in the original space, that is, they are 4096-dimensional!\n",
    "\n",
    "Since we are working with images, we can reshape them back to a $64 \\times 64$ image and see what are the regions in the image with maximum explained variance! This is called the **eigenfaces**."
   ]
  },
  {
   "cell_type": "code",
   "execution_count": null,
   "id": "f36a5523",
   "metadata": {},
   "outputs": [],
   "source": [
    "yyy = ##\n",
    "\n",
    "yyy.shape"
   ]
  },
  {
   "cell_type": "code",
   "execution_count": null,
   "id": "f943edbd",
   "metadata": {},
   "outputs": [],
   "source": [
    "plt.figure(figsize=(10,7))\n",
    "plt.scatter(yyy[:,0], yyy[:,1], c=t_test, cmap=plt.cm.gist_rainbow)\n",
    "plt.xlabel('Principal Component 1', size=15)\n",
    "plt.ylabel('Principal Component 2', size=15)\n",
    "plt.title('Test Set')\n",
    "plt.colorbar();"
   ]
  },
  {
   "cell_type": "markdown",
   "id": "c2886962",
   "metadata": {},
   "source": [
    "What do eigenvectors represent in this dataset?"
   ]
  },
  {
   "cell_type": "code",
   "execution_count": null,
   "id": "926acf8e",
   "metadata": {},
   "outputs": [],
   "source": [
    "# Visualizing 1st eigenvector\n",
    "\n"
   ]
  },
  {
   "cell_type": "markdown",
   "id": "e62e9b49",
   "metadata": {},
   "source": [
    "Let's now recover 16 eigenvectors and plot them as images:"
   ]
  },
  {
   "cell_type": "code",
   "execution_count": null,
   "id": "5a08910d",
   "metadata": {},
   "outputs": [],
   "source": [
    "n_components = ##\n",
    "\n",
    "pca = PCA(n_components=n_components)\n",
    "ypca = pca.fit_transform(X_train_scaled)\n",
    "\n",
    "fig=plt.figure(figsize=(10,10))\n",
    "for i in range(n_components):\n",
    "    fig.add_subplot(4,4,i+1)\n",
    "    plt.imshow(abs(pca.components_[i,:].reshape(64,64)),cmap='gray')\n",
    "    plt.axis('off')"
   ]
  },
  {
   "cell_type": "markdown",
   "id": "3ce8dc61",
   "metadata": {},
   "source": [
    "The eigenvectors are describing the regions in the 64x64 image that explain the most variance. the more eigenvectors are kept, the better a reconstruction image will be produced.\n",
    "\n",
    "For example, let's reconstruct the images in the dataset using the top 16 eigenvectors:"
   ]
  },
  {
   "cell_type": "code",
   "execution_count": null,
   "id": "1f32c5a2",
   "metadata": {},
   "outputs": [],
   "source": [
    "K = ##\n",
    "\n",
    "L, U = ##"
   ]
  },
  {
   "cell_type": "code",
   "execution_count": null,
   "id": "5808c161",
   "metadata": {},
   "outputs": [],
   "source": [
    "\n"
   ]
  },
  {
   "cell_type": "code",
   "execution_count": null,
   "id": "d3b8c892",
   "metadata": {},
   "outputs": [],
   "source": []
  },
  {
   "cell_type": "code",
   "execution_count": null,
   "id": "5ffcfdcb",
   "metadata": {},
   "outputs": [],
   "source": [
    "N_eigenvectors = ##\n",
    "\n",
    "P = U[:, :N_eigenvectors]\n",
    "\n",
    "X_proj = X_train_scaled@P\n",
    "X_reconstruct = X_proj@np.linalg.pinv(P)\n",
    "\n",
    "X_reconstruct.shape"
   ]
  },
  {
   "cell_type": "markdown",
   "id": "434258af",
   "metadata": {},
   "source": [
    "Since the projection is given by:\n",
    "\n",
    "$$\\mathbf{Y} = \\mathbf{A}\\mathbf{X}$$\n",
    "\n",
    "In order to recover $\\mathbf{X}$, we need to left-multiply by the pseudo-inverse of $\\mathbf{A}$:\n",
    "\n",
    "$$\\hat{\\mathbf{X}} = \\mathbf{A}^\\dagger\\mathbf{Y}$$"
   ]
  },
  {
   "cell_type": "code",
   "execution_count": null,
   "id": "e4a44da6",
   "metadata": {},
   "outputs": [],
   "source": [
    "# Alternatively\n",
    "\n",
    "ypca = pca.transform(X_train_scaled)\n",
    "X_reconstruct_skl=pca.inverse_transform(ypca)\n",
    "\n",
    "X_reconstruct_skl.shape"
   ]
  },
  {
   "cell_type": "markdown",
   "id": "f5401690",
   "metadata": {},
   "source": [
    "We also need to bringing back to the original scaling: multiplying by the standard deviation and adding the sample mean value:"
   ]
  },
  {
   "cell_type": "code",
   "execution_count": null,
   "id": "4ba76b41",
   "metadata": {},
   "outputs": [],
   "source": [
    "X_reconstructed = scaler.inverse_transform(X_reconstruct)\n",
    "\n",
    "X_reconstructed_skl = scaler.inverse_transform(X_reconstruct_skl)\n",
    "\n",
    "# np.multiply(X_reconstruct,stdev) + mean"
   ]
  },
  {
   "cell_type": "code",
   "execution_count": null,
   "id": "418b1d93",
   "metadata": {},
   "outputs": [],
   "source": [
    "N = 5\n",
    "idx = np.random.choice(range(X_reconstructed.shape[0]),replace=False,size=N)\n",
    "\n",
    "fig = plt.figure(figsize=(15,5))\n",
    "\n",
    "j=1\n",
    "for i in range(N):\n",
    "    fig.add_subplot(2,N,j)\n",
    "    plt.imshow(X_train[idx[i],:].reshape(64,64), cmap='gray')\n",
    "    plt.axis('off')\n",
    "    plt.title('Original Image');\n",
    "\n",
    "    fig.add_subplot(2,N,j+N)\n",
    "    plt.imshow(X_reconstructed[idx[i],:].reshape(64,64), cmap='gray')\n",
    "    plt.axis('off')\n",
    "    plt.title('Reconstructed Image');\n",
    "    j+=1"
   ]
  },
  {
   "cell_type": "markdown",
   "id": "18964cf6",
   "metadata": {},
   "source": [
    "Putting it all together:"
   ]
  },
  {
   "cell_type": "code",
   "execution_count": null,
   "id": "d4a8ee46",
   "metadata": {},
   "outputs": [],
   "source": [
    "N_eigenvectors = ##\n",
    "\n",
    "pca = PCA(n_components=N_eigenvectors)\n",
    "ypca = pca.fit_transform(X_train_scaled)\n",
    "X_reconstruct = pca.inverse_transform(ypca)\n",
    "X_reconstructed = scaler.inverse_transform(X_reconstruct)\n",
    "\n",
    "N = 5\n",
    "\n",
    "fig = plt.figure(figsize=(15,5))\n",
    "idx = np.random.choice(range(X_reconstructed.shape[0]),replace=False,size=N)\n",
    "j=1\n",
    "for i in range(N):\n",
    "    fig.add_subplot(2,N,j)\n",
    "    plt.imshow(X_train[idx[i],:].reshape(64,64), cmap='gray')\n",
    "    plt.axis('off')\n",
    "    plt.title('Original Image');\n",
    "\n",
    "    fig.add_subplot(2,N,j+N)\n",
    "    plt.imshow(X_reconstructed[idx[i],:].reshape(64,64), cmap='gray')\n",
    "    plt.axis('off')\n",
    "    plt.title('Reconstructed Image');\n",
    "    j+=1"
   ]
  },
  {
   "cell_type": "markdown",
   "id": "3011844e",
   "metadata": {},
   "source": [
    "Still some compression loss but much better representation!"
   ]
  },
  {
   "cell_type": "markdown",
   "id": "72fe6618",
   "metadata": {},
   "source": [
    "---"
   ]
  }
 ],
 "metadata": {
  "kernelspec": {
   "display_name": "Python 3 (ipykernel)",
   "language": "python",
   "name": "python3"
  },
  "language_info": {
   "codemirror_mode": {
    "name": "ipython",
    "version": 3
   },
   "file_extension": ".py",
   "mimetype": "text/x-python",
   "name": "python",
   "nbconvert_exporter": "python",
   "pygments_lexer": "ipython3",
   "version": "3.9.12"
  },
  "latex_envs": {
   "LaTeX_envs_menu_present": true,
   "autoclose": false,
   "autocomplete": true,
   "bibliofile": "biblio.bib",
   "cite_by": "apalike",
   "current_citInitial": 1,
   "eqLabelWithNumbers": true,
   "eqNumInitial": 1,
   "hotkeys": {
    "equation": "Ctrl-E",
    "itemize": "Ctrl-I"
   },
   "labels_anchors": false,
   "latex_user_defs": false,
   "report_style_numbering": false,
   "user_envs_cfg": false
  },
  "varInspector": {
   "cols": {
    "lenName": 16,
    "lenType": 16,
    "lenVar": 40
   },
   "kernels_config": {
    "python": {
     "delete_cmd_postfix": "",
     "delete_cmd_prefix": "del ",
     "library": "var_list.py",
     "varRefreshCmd": "print(var_dic_list())"
    },
    "r": {
     "delete_cmd_postfix": ") ",
     "delete_cmd_prefix": "rm(",
     "library": "var_list.r",
     "varRefreshCmd": "cat(var_dic_list()) "
    }
   },
   "types_to_exclude": [
    "module",
    "function",
    "builtin_function_or_method",
    "instance",
    "_Feature"
   ],
   "window_display": false
  }
 },
 "nbformat": 4,
 "nbformat_minor": 5
}
